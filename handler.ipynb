{
 "cells": [
  {
   "cell_type": "code",
   "execution_count": 5,
   "metadata": {},
   "outputs": [],
   "source": [
    "import json\n",
    "\n",
    "def hello(event, context):\n",
    "\n",
    "    meuinput = int(event['pathParameters']['meuinput'])\n",
    "\n",
    "    n = meuinput\n",
    "    mult=0\n",
    "    retorno = ''\n",
    "\n",
    "    for count in range(2,n):\n",
    "        if (n % count == 0):\n",
    "            mult += 1\n",
    "\n",
    "    if(mult==0):\n",
    "        retorno = 'eh primo'\n",
    "    else:\n",
    "        retorno = 'Nao eh primo'\n",
    "\n",
    "    body = {\n",
    "            \"message\": \"Hello World\",\n",
    "            \"values\": retorno\n",
    "        }\n",
    "    #\n",
    "    response = {\n",
    "        \"statusCode\": 200,\n",
    "            \"body\": json.dumps(body)\n",
    "        }\n",
    "\n",
    "    return response"
   ]
  }
 ],
 "metadata": {
  "kernelspec": {
   "display_name": "Python 3.9.7 ('base')",
   "language": "python",
   "name": "python3"
  },
  "language_info": {
   "codemirror_mode": {
    "name": "ipython",
    "version": 3
   },
   "file_extension": ".py",
   "mimetype": "text/x-python",
   "name": "python",
   "nbconvert_exporter": "python",
   "pygments_lexer": "ipython3",
   "version": "3.9.7"
  },
  "orig_nbformat": 4,
  "vscode": {
   "interpreter": {
    "hash": "5c61dcaaff01ee17f1d42d3700ed0d77457d4f6f099d40a14252572ab5add34e"
   }
  }
 },
 "nbformat": 4,
 "nbformat_minor": 2
}
